{
 "cells": [
  {
   "cell_type": "code",
   "execution_count": 2,
   "id": "39cb5a54-2ba1-4793-b5aa-41841d24ea85",
   "metadata": {},
   "outputs": [
    {
     "name": "stdout",
     "output_type": "stream",
     "text": [
      "\u001b[1m1/1\u001b[0m \u001b[32m━━━━━━━━━━━━━━━━━━━━\u001b[0m\u001b[37m\u001b[0m \u001b[1m0s\u001b[0m 180ms/step\n",
      "Probabilidad de defecto: 2.0176295e-23\n",
      "📊 Probabilidad de defecto: [[2.0176295e-23]]\n",
      "🧠 Diagnóstico: 🟢 BUENA (alta certeza)\n"
     ]
    }
   ],
   "source": [
    "from tensorflow.keras.models import load_model\n",
    "import cv2\n",
    "import numpy as np\n",
    "\n",
    "# Cargar modelo\n",
    "modelo = load_model(\"mi_modelo.keras\")\n",
    "#ruta_imagen= \"C://Users//Carlos//Desktop//leather//test//glue//055.png\"\n",
    "#ruta_imagen= \"C:\\\\Users\\\\Carlos\\\\Desktop\\\\leather\\\\test\\\\glue\\\\055.png\"\n",
    "ruta_imagen= \"C:\\\\Users\\\\Carlos\\\\inspeccion_calidad\\\\dataset\\\\piezas_malas\\\\038.png\"\n",
    "# Cargar y preprocesar imagen de prueba\n",
    "img = cv2.imread(ruta_imagen)\n",
    "img = cv2.cvtColor(img, cv2.COLOR_BGR2RGB)\n",
    "img = cv2.resize(img, (128, 128))  # usa el tamaño que entrenaste\n",
    "img = img / 255.0\n",
    "img = np.expand_dims(img, axis=0)  # (1, 128, 128, 3)\n",
    "\n",
    "# Predicción\n",
    "prob = modelo.predict(img)\n",
    "print(\"Probabilidad de defecto:\", prob[0][0])\n",
    "\n",
    "def clasificar(prob):\n",
    "    if prob >= 0.75:\n",
    "        return \"🔴 DEFECTUOSA (alta certeza)\"\n",
    "    elif prob >= 0.6:\n",
    "        return \"🟠 POSIBLE DEFECTO (revisar)\"\n",
    "    elif prob <= 0.25:\n",
    "        return \"🟢 BUENA (alta certeza)\"\n",
    "    elif prob <= 0.4:\n",
    "        return \"🟢 PROBABLEMENTE BUENA\"\n",
    "    else:\n",
    "        return \"🟡 INCIERTA (modelo inseguro)\"\n",
    "\n",
    "print(\"📊 Probabilidad de defecto:\", prob)\n",
    "print(\"🧠 Diagnóstico:\", clasificar(prob))"
   ]
  }
 ],
 "metadata": {
  "kernelspec": {
   "display_name": "Python 3 (ipykernel)",
   "language": "python",
   "name": "python3"
  },
  "language_info": {
   "codemirror_mode": {
    "name": "ipython",
    "version": 3
   },
   "file_extension": ".py",
   "mimetype": "text/x-python",
   "name": "python",
   "nbconvert_exporter": "python",
   "pygments_lexer": "ipython3",
   "version": "3.10.0"
  }
 },
 "nbformat": 4,
 "nbformat_minor": 5
}
