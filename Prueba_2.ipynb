{
 "cells": [
  {
   "cell_type": "code",
   "execution_count": 13,
   "id": "f7afad74-0e5a-4e64-b20f-ee02a920d29f",
   "metadata": {},
   "outputs": [],
   "source": [
    "!pip install scikit-learn"
   ]
  },
  {
   "cell_type": "code",
   "execution_count": 21,
   "id": "19fffdaa-3ae7-40bd-b9ac-a13e3c5374de",
   "metadata": {},
   "outputs": [
    {
     "name": "stdout",
     "output_type": "stream",
     "text": [
      "1.6.1\n"
     ]
    }
   ],
   "source": [
    "import sklearn\n",
    "print(sklearn.__version__)"
   ]
  },
  {
   "cell_type": "code",
   "execution_count": 19,
   "id": "1684b6a9-d08b-4c63-9569-7b10886b517c",
   "metadata": {},
   "outputs": [
    {
     "name": "stdout",
     "output_type": "stream",
     "text": [
      "C:\\Users\\Carlos\\AppData\\Local\\Programs\\Python\\Python310\\python.exe\n"
     ]
    }
   ],
   "source": [
    "import sys\n",
    "print(sys.executable)"
   ]
  },
  {
   "cell_type": "code",
   "execution_count": 20,
   "id": "7abb29a2-c9f6-4f2c-a4e1-5f1e52858cb5",
   "metadata": {},
   "outputs": [
    {
     "name": "stdout",
     "output_type": "stream",
     "text": [
      "Collecting scikit-learn\n",
      "  Downloading scikit_learn-1.6.1-cp310-cp310-win_amd64.whl (11.1 MB)\n",
      "Collecting joblib>=1.2.0\n",
      "  Downloading joblib-1.4.2-py3-none-any.whl (301 kB)\n",
      "Requirement already satisfied: numpy>=1.19.5 in c:\\users\\carlos\\appdata\\local\\programs\\python\\python310\\lib\\site-packages (from scikit-learn) (2.1.3)\n",
      "Collecting threadpoolctl>=3.1.0\n",
      "  Downloading threadpoolctl-3.6.0-py3-none-any.whl (18 kB)\n",
      "Collecting scipy>=1.6.0\n",
      "  Downloading scipy-1.15.2-cp310-cp310-win_amd64.whl (41.2 MB)\n",
      "Installing collected packages: threadpoolctl, scipy, joblib, scikit-learn\n",
      "Successfully installed joblib-1.4.2 scikit-learn-1.6.1 scipy-1.15.2 threadpoolctl-3.6.0\n"
     ]
    },
    {
     "name": "stderr",
     "output_type": "stream",
     "text": [
      "WARNING: Ignoring invalid distribution -pds-py (c:\\users\\carlos\\appdata\\roaming\\python\\python310\\site-packages)\n",
      "WARNING: Ignoring invalid distribution -pds-py (c:\\users\\carlos\\appdata\\roaming\\python\\python310\\site-packages)\n",
      "WARNING: Ignoring invalid distribution -pds-py (c:\\users\\carlos\\appdata\\roaming\\python\\python310\\site-packages)\n",
      "WARNING: Ignoring invalid distribution -pds-py (c:\\users\\carlos\\appdata\\roaming\\python\\python310\\site-packages)\n",
      "WARNING: Ignoring invalid distribution -pds-py (c:\\users\\carlos\\appdata\\roaming\\python\\python310\\site-packages)\n",
      "WARNING: Ignoring invalid distribution -pds-py (c:\\users\\carlos\\appdata\\roaming\\python\\python310\\site-packages)\n",
      "WARNING: You are using pip version 21.2.3; however, version 25.0.1 is available.\n",
      "You should consider upgrading via the 'C:\\Users\\Carlos\\AppData\\Local\\Programs\\Python\\Python310\\python.exe -m pip install --upgrade pip' command.\n"
     ]
    }
   ],
   "source": [
    "import sys\n",
    "!{sys.executable} -m pip install scikit-learn"
   ]
  },
  {
   "cell_type": "code",
   "execution_count": 5,
   "id": "6bbacc09-75f8-4476-aeb5-87d56e49f0de",
   "metadata": {},
   "outputs": [
    {
     "name": "stdout",
     "output_type": "stream",
     "text": [
      "piezas_buenas: 245 imágenes\n",
      "piezas_malas: 92 imágenes\n"
     ]
    }
   ],
   "source": [
    "import os\n",
    "\n",
    "dataset_path = \"dataset\"\n",
    "\n",
    "for categoria in [\"piezas_buenas\", \"piezas_malas\"]:\n",
    "    ruta = os.path.join(dataset_path, categoria)\n",
    "    archivos = os.listdir(ruta)\n",
    "    print(f\"{categoria}: {len(archivos)} imágenes\")"
   ]
  },
  {
   "cell_type": "code",
   "execution_count": 9,
   "id": "f7c4c850-6dd4-4dd3-a5e7-8acf062c305a",
   "metadata": {},
   "outputs": [
    {
     "name": "stdout",
     "output_type": "stream",
     "text": [
      "✅ Imágenes preprocesadas correctamente\n",
      "🔢 Tamaño de X: (337, 128, 128, 3)\n",
      "🔢 Tamaño de y: (337,)\n"
     ]
    }
   ],
   "source": [
    "import os\n",
    "\n",
    "import cv2\n",
    "import numpy as np\n",
    "\n",
    "# =============================================\n",
    "# 1. Carga y preprocesamiento de imágenes\n",
    "# =============================================\n",
    "\n",
    "# Ruta a la carpeta dataset\n",
    "DATASET_PATH = \"dataset\"\n",
    "IMG_SIZE = 128\n",
    "\n",
    "# Etiquetas: piezas buenas = 0, piezas malas = 1\n",
    "CATEGORIES = [\"piezas_buenas\", \"piezas_malas\"]\n",
    "\n",
    "data = []\n",
    "\n",
    "# Recorremos ambas categorías\n",
    "for label, category in enumerate(CATEGORIES):\n",
    "    folder_path = os.path.join(DATASET_PATH, category)\n",
    "    for filename in os.listdir(folder_path):\n",
    "        img_path = os.path.join(folder_path, filename)\n",
    "        try:\n",
    "            # Leer la imagen en escala de grise(hemos cambiado a color porque tenemos fallos por manchas, quemaduras etc)\n",
    "            img = cv2.imread(img_path, cv2.IMREAD_COLOR)\n",
    "            # 🎨 Convertir de BGR a RGB (OpenCV usa BGR por defecto)\n",
    "            img = cv2.cvtColor(img, cv2.COLOR_BGR2RGB)\n",
    "            # Redimensionar a 128x128\n",
    "            img = cv2.resize(img, (IMG_SIZE, IMG_SIZE))\n",
    "            # Normalizar valores (de 0-255 a 0-1)\n",
    "            img = img / 255.0\n",
    "            # Añadir a la lista de datos junto con su etiqueta (0 o 1)\n",
    "            data.append([img, label])\n",
    "        except Exception as e:\n",
    "            print(f\"⚠️ Error al procesar {img_path}: {e}\")\n",
    "\n",
    "# Mezclar los datos aleatoriamente\n",
    "import random\n",
    "random.shuffle(data)\n",
    "\n",
    "# Separar datos y etiquetas\n",
    "X = []\n",
    "y = []\n",
    "\n",
    "for features, label in data:\n",
    "    X.append(features)\n",
    "    y.append(label)\n",
    "\n",
    "# Convertir a arrays de numpy(3 es el numero de canales de color, si fuera escala de grises habria que poner 1)\n",
    "X = np.array(X).reshape(-1, IMG_SIZE, IMG_SIZE, 3)\n",
    "y = np.array(y)\n",
    "\n",
    "print(\"✅ Imágenes preprocesadas correctamente\")\n",
    "print(\"🔢 Tamaño de X:\", X.shape)\n",
    "print(\"🔢 Tamaño de y:\", y.shape)"
   ]
  },
  {
   "cell_type": "code",
   "execution_count": 15,
   "id": "2624ee41-a105-4eee-a82f-0266755f1b41",
   "metadata": {},
   "outputs": [
    {
     "name": "stdout",
     "output_type": "stream",
     "text": [
      "✅ Dataset balanceado:\n",
      "Total imágenes: {len(X_balanced)}\n",
      "Buenas: {sum(y_balanced == 0)}\n",
      "Malas: {sum(y_balanced == 1)}\n",
      "\n",
      "[👀] Visualizando muestras aumentadas...\n"
     ]
    },
    {
     "data": {
      "image/png": "[encoded data removed]",
      "text/plain": [
       "<Figure size 1000x500 with 5 Axes>"
      ]
     },
     "metadata": {},
     "output_type": "display_data"
    }
   ],
   "source": [
    "from tensorflow.keras.preprocessing.image import ImageDataGenerator\n",
    "import numpy as np\n",
    "\n",
    "# =============================================\n",
    "# 2. Oversampling de la clase minoritaria\n",
    "# =============================================\n",
    "\n",
    "# Separa los datos por clase\n",
    "X_buenas = X[y == 0]  # Clase 0: piezas buenas\n",
    "X_malas = X[y == 1]   # Clase 1: piezas malas\n",
    "\n",
    "\n",
    "\n",
    "# Configura el generador de aumentos solo para piezas malas\n",
    "datagen = ImageDataGenerator(\n",
    "    rotation_range=20,\n",
    "    width_shift_range=0.15,\n",
    "    height_shift_range=0.15,\n",
    "    zoom_range=0.2,\n",
    "    horizontal_flip=True,\n",
    "    brightness_range=[0.8, 1.2],\n",
    "    fill_mode='nearest'\n",
    ")\n",
    "\n",
    "# Calcula cuántas muestras adicionales necesitas\n",
    "muestras_necesarias = len(X_buenas) - len(X_malas)\n",
    "\n",
    "\n",
    "# Generación de imágenes aumentadas (parte corregida)\n",
    "X_malas_aumentadas = []\n",
    "for i in range(len(X_buenas) - len(X_malas)):\n",
    "    # Elige una imagen aleatoria para aumentar\n",
    "    img = X_malas[np.random.randint(0, len(X_malas))]\n",
    "    img = img.reshape((1,) + img.shape)  # Asegura 4 dimensiones\n",
    "    # Aplica transformaciones\n",
    "    transformed = next(datagen.flow(img, batch_size=1))[0]\n",
    "    X_malas_aumentadas.append(transformed)\n",
    "\n",
    "# Convertir cada imagen aumentada a 4D (agregar dimensión de batch)\n",
    "X_malas_aumentadas_4d = [img[np.newaxis, ...] for img in X_malas_aumentadas]\n",
    "\n",
    "# Combinación final-->Combina con el dataset original\n",
    "X_malas_oversampled = np.concatenate([X_malas] + X_malas_aumentadas_4d)\n",
    "y_malas_oversampled = np.ones(len(X_malas_oversampled))\n",
    "\n",
    "# Dataset final balanceado\n",
    "X_balanced = np.concatenate([X_buenas, X_malas_oversampled])\n",
    "y_balanced = np.concatenate([np.zeros(len(X_buenas)), y_malas_oversampled])\n",
    "\n",
    "\n",
    "\n",
    "# Mezcla los datos\n",
    "indices = np.arange(len(X_balanced))\n",
    "np.random.shuffle(indices)\n",
    "X_balanced = X_balanced[indices]\n",
    "y_balanced = y_balanced[indices]\n",
    "\n",
    "print(\"✅ Dataset balanceado:\")\n",
    "print(\"Total imágenes: {len(X_balanced)}\")\n",
    "print(\"Buenas: {sum(y_balanced == 0)}\")\n",
    "print(\"Malas: {sum(y_balanced == 1)}\")\n",
    "\n",
    "# Guardar dataset balanceado\n",
    "np.save('X_balanced.npy', X_balanced)\n",
    "np.save('y_balanced.npy', y_balanced)\n",
    "\n",
    "\n",
    "\n",
    "# =============================================\n",
    "# 3. Visualización de imágenes aumentadas\n",
    "# =============================================\n",
    "# Validación visual -->Verifica que las imágenes generadas:  \n",
    "#Conservan los defectos relevantes.No presentan artefactos extraños. Son visualmente realistas.\n",
    "import matplotlib.pyplot as plt\n",
    "\n",
    "print(\"\\n[👀] Visualizando muestras aumentadas...\")\n",
    "plt.figure(figsize=(10,5))\n",
    "for i in range(5):\n",
    "    plt.subplot(1,5,i+1)\n",
    "    plt.imshow(X_malas_aumentadas[i])\n",
    "    plt.title(f\"Muestra {i+1}\")\n",
    "    plt.axis('off')\n",
    "plt.show()"
   ]
  },
  {
   "cell_type": "code",
   "execution_count": 12,
   "id": "c6377ce4-739a-411f-8aba-f5ce22cfc972",
   "metadata": {},
   "outputs": [
    {
     "name": "stdout",
     "output_type": "stream",
     "text": [
      "✅ Datos divididos:\n",
      "📊 X_train: (269, 128, 128, 3)\n",
      "📊 X_val: (68, 128, 128, 3)\n",
      "\n",
      "[🔁] Entrenando modelo...\n",
      "Epoch 1/30\n",
      "\u001b[1m17/17\u001b[0m \u001b[32m━━━━━━━━━━━━━━━━━━━━\u001b[0m\u001b[37m\u001b[0m \u001b[1m11s\u001b[0m 440ms/step - accuracy: 0.7292 - loss: 6.4196 - val_accuracy: 0.7941 - val_loss: 0.3647\n",
      "Epoch 2/30\n",
      "\u001b[1m17/17\u001b[0m \u001b[32m━━━━━━━━━━━━━━━━━━━━\u001b[0m\u001b[37m\u001b[0m \u001b[1m6s\u001b[0m 363ms/step - accuracy: 0.9419 - loss: 0.4554 - val_accuracy: 0.6912 - val_loss: 12.4217\n",
      "Epoch 3/30\n",
      "\u001b[1m17/17\u001b[0m \u001b[32m━━━━━━━━━━━━━━━━━━━━\u001b[0m\u001b[37m\u001b[0m \u001b[1m7s\u001b[0m 394ms/step - accuracy: 0.9805 - loss: 0.2397 - val_accuracy: 0.6912 - val_loss: 24.3602\n",
      "Epoch 4/30\n",
      "\u001b[1m17/17\u001b[0m \u001b[32m━━━━━━━━━━━━━━━━━━━━\u001b[0m\u001b[37m\u001b[0m \u001b[1m7s\u001b[0m 380ms/step - accuracy: 0.9588 - loss: 0.2451 - val_accuracy: 0.6912 - val_loss: 28.7386\n",
      "Epoch 5/30\n",
      "\u001b[1m17/17\u001b[0m \u001b[32m━━━━━━━━━━━━━━━━━━━━\u001b[0m\u001b[37m\u001b[0m \u001b[1m6s\u001b[0m 366ms/step - accuracy: 0.9769 - loss: 0.4013 - val_accuracy: 0.6912 - val_loss: 33.4603\n",
      "Epoch 6/30\n",
      "\u001b[1m17/17\u001b[0m \u001b[32m━━━━━━━━━━━━━━━━━━━━\u001b[0m\u001b[37m\u001b[0m \u001b[1m7s\u001b[0m 391ms/step - accuracy: 0.9809 - loss: 0.1298 - val_accuracy: 0.6912 - val_loss: 28.2732\n",
      "Epoch 7/30\n",
      "\u001b[1m17/17\u001b[0m \u001b[32m━━━━━━━━━━━━━━━━━━━━\u001b[0m\u001b[37m\u001b[0m \u001b[1m6s\u001b[0m 346ms/step - accuracy: 0.9923 - loss: 0.1773 - val_accuracy: 0.6912 - val_loss: 32.4852\n",
      "Epoch 8/30\n",
      "\u001b[1m17/17\u001b[0m \u001b[32m━━━━━━━━━━━━━━━━━━━━\u001b[0m\u001b[37m\u001b[0m \u001b[1m6s\u001b[0m 381ms/step - accuracy: 0.9926 - loss: 0.0196 - val_accuracy: 0.6912 - val_loss: 36.4353\n",
      "Epoch 9/30\n",
      "\u001b[1m17/17\u001b[0m \u001b[32m━━━━━━━━━━━━━━━━━━━━\u001b[0m\u001b[37m\u001b[0m \u001b[1m7s\u001b[0m 413ms/step - accuracy: 0.9989 - loss: 0.0091 - val_accuracy: 0.6912 - val_loss: 41.6369\n",
      "Epoch 10/30\n",
      "\u001b[1m17/17\u001b[0m \u001b[32m━━━━━━━━━━━━━━━━━━━━\u001b[0m\u001b[37m\u001b[0m \u001b[1m6s\u001b[0m 378ms/step - accuracy: 0.9951 - loss: 0.0108 - val_accuracy: 0.6912 - val_loss: 50.3464\n",
      "Epoch 11/30\n",
      "\u001b[1m17/17\u001b[0m \u001b[32m━━━━━━━━━━━━━━━━━━━━\u001b[0m\u001b[37m\u001b[0m \u001b[1m7s\u001b[0m 387ms/step - accuracy: 0.9886 - loss: 0.0430 - val_accuracy: 0.6912 - val_loss: 57.6786\n",
      "Epoch 12/30\n",
      "\u001b[1m17/17\u001b[0m \u001b[32m━━━━━━━━━━━━━━━━━━━━\u001b[0m\u001b[37m\u001b[0m \u001b[1m8s\u001b[0m 449ms/step - accuracy: 0.9726 - loss: 0.1035 - val_accuracy: 0.6912 - val_loss: 66.5169\n",
      "Epoch 13/30\n",
      "\u001b[1m17/17\u001b[0m \u001b[32m━━━━━━━━━━━━━━━━━━━━\u001b[0m\u001b[37m\u001b[0m \u001b[1m8s\u001b[0m 437ms/step - accuracy: 0.9964 - loss: 0.0067 - val_accuracy: 0.6912 - val_loss: 72.8075\n",
      "Epoch 14/30\n",
      "\u001b[1m17/17\u001b[0m \u001b[32m━━━━━━━━━━━━━━━━━━━━\u001b[0m\u001b[37m\u001b[0m \u001b[1m7s\u001b[0m 430ms/step - accuracy: 1.0000 - loss: 0.0026 - val_accuracy: 0.6912 - val_loss: 76.5257\n",
      "Epoch 15/30\n",
      "\u001b[1m17/17\u001b[0m \u001b[32m━━━━━━━━━━━━━━━━━━━━\u001b[0m\u001b[37m\u001b[0m \u001b[1m7s\u001b[0m 415ms/step - accuracy: 1.0000 - loss: 0.0013 - val_accuracy: 0.6912 - val_loss: 80.4278\n",
      "Epoch 16/30\n",
      "\u001b[1m17/17\u001b[0m \u001b[32m━━━━━━━━━━━━━━━━━━━━\u001b[0m\u001b[37m\u001b[0m \u001b[1m7s\u001b[0m 415ms/step - accuracy: 1.0000 - loss: 0.0038 - val_accuracy: 0.6912 - val_loss: 81.7099\n",
      "Epoch 17/30\n",
      "\u001b[1m17/17\u001b[0m \u001b[32m━━━━━━━━━━━━━━━━━━━━\u001b[0m\u001b[37m\u001b[0m \u001b[1m7s\u001b[0m 393ms/step - accuracy: 0.9929 - loss: 0.0080 - val_accuracy: 0.6912 - val_loss: 82.4338\n",
      "Epoch 18/30\n",
      "\u001b[1m17/17\u001b[0m \u001b[32m━━━━━━━━━━━━━━━━━━━━\u001b[0m\u001b[37m\u001b[0m \u001b[1m7s\u001b[0m 392ms/step - accuracy: 1.0000 - loss: 6.3935e-04 - val_accuracy: 0.6912 - val_loss: 71.1717\n",
      "Epoch 19/30\n",
      "\u001b[1m17/17\u001b[0m \u001b[32m━━━━━━━━━━━━━━━━━━━━\u001b[0m\u001b[37m\u001b[0m \u001b[1m7s\u001b[0m 375ms/step - accuracy: 1.0000 - loss: 2.8915e-06 - val_accuracy: 0.6912 - val_loss: 69.4217\n",
      "Epoch 20/30\n",
      "\u001b[1m17/17\u001b[0m \u001b[32m━━━━━━━━━━━━━━━━━━━━\u001b[0m\u001b[37m\u001b[0m \u001b[1m6s\u001b[0m 351ms/step - accuracy: 1.0000 - loss: 1.8336e-04 - val_accuracy: 0.6912 - val_loss: 73.3807\n",
      "Epoch 21/30\n",
      "\u001b[1m17/17\u001b[0m \u001b[32m━━━━━━━━━━━━━━━━━━━━\u001b[0m\u001b[37m\u001b[0m \u001b[1m6s\u001b[0m 357ms/step - accuracy: 1.0000 - loss: 1.2227e-04 - val_accuracy: 0.6912 - val_loss: 74.4323\n",
      "Epoch 22/30\n",
      "\u001b[1m17/17\u001b[0m \u001b[32m━━━━━━━━━━━━━━━━━━━━\u001b[0m\u001b[37m\u001b[0m \u001b[1m7s\u001b[0m 390ms/step - accuracy: 1.0000 - loss: 3.4135e-06 - val_accuracy: 0.6912 - val_loss: 73.1750\n",
      "Epoch 23/30\n",
      "\u001b[1m17/17\u001b[0m \u001b[32m━━━━━━━━━━━━━━━━━━━━\u001b[0m\u001b[37m\u001b[0m \u001b[1m6s\u001b[0m 355ms/step - accuracy: 0.9977 - loss: 0.0052 - val_accuracy: 0.6912 - val_loss: 82.8325\n",
      "Epoch 24/30\n",
      "\u001b[1m17/17\u001b[0m \u001b[32m━━━━━━━━━━━━━━━━━━━━\u001b[0m\u001b[37m\u001b[0m \u001b[1m6s\u001b[0m 350ms/step - accuracy: 1.0000 - loss: 2.8991e-04 - val_accuracy: 0.6912 - val_loss: 113.1804\n",
      "Epoch 25/30\n",
      "\u001b[1m17/17\u001b[0m \u001b[32m━━━━━━━━━━━━━━━━━━━━\u001b[0m\u001b[37m\u001b[0m \u001b[1m7s\u001b[0m 416ms/step - accuracy: 1.0000 - loss: 0.0016 - val_accuracy: 0.6912 - val_loss: 106.2843\n",
      "Epoch 26/30\n",
      "\u001b[1m17/17\u001b[0m \u001b[32m━━━━━━━━━━━━━━━━━━━━\u001b[0m\u001b[37m\u001b[0m \u001b[1m8s\u001b[0m 448ms/step - accuracy: 1.0000 - loss: 4.8848e-05 - val_accuracy: 0.6912 - val_loss: 89.6149\n",
      "Epoch 27/30\n",
      "\u001b[1m17/17\u001b[0m \u001b[32m━━━━━━━━━━━━━━━━━━━━\u001b[0m\u001b[37m\u001b[0m \u001b[1m8s\u001b[0m 470ms/step - accuracy: 1.0000 - loss: 1.5411e-05 - val_accuracy: 0.7059 - val_loss: 75.9814\n",
      "Epoch 28/30\n",
      "\u001b[1m17/17\u001b[0m \u001b[32m━━━━━━━━━━━━━━━━━━━━\u001b[0m\u001b[37m\u001b[0m \u001b[1m6s\u001b[0m 367ms/step - accuracy: 0.9897 - loss: 0.0235 - val_accuracy: 0.7206 - val_loss: 31.7623\n",
      "Epoch 29/30\n",
      "\u001b[1m17/17\u001b[0m \u001b[32m━━━━━━━━━━━━━━━━━━━━\u001b[0m\u001b[37m\u001b[0m \u001b[1m7s\u001b[0m 422ms/step - accuracy: 0.9793 - loss: 0.1193 - val_accuracy: 0.9706 - val_loss: 0.0967\n",
      "Epoch 30/30\n",
      "\u001b[1m17/17\u001b[0m \u001b[32m━━━━━━━━━━━━━━━━━━━━\u001b[0m\u001b[37m\u001b[0m \u001b[1m6s\u001b[0m 376ms/step - accuracy: 0.9711 - loss: 0.2789 - val_accuracy: 0.3088 - val_loss: 36.0530\n"
     ]
    },
    {
     "data": {
      "image/png": "[encoded data removed]",
      "text/plain": [
       "<Figure size 1200x400 with 1 Axes>"
      ]
     },
     "metadata": {},
     "output_type": "display_data"
    },
    {
     "data": {
      "image/png": "[encoded data removed]",
      "text/plain": [
       "<Figure size 640x480 with 1 Axes>"
      ]
     },
     "metadata": {},
     "output_type": "display_data"
    }
   ],
   "source": [
    "from tensorflow.keras.models import Sequential\n",
    "from tensorflow.keras.layers import Conv2D, MaxPooling2D, BatchNormalization\n",
    "from tensorflow.keras.layers import Flatten, Dense, Dropout\n",
    "from tensorflow.keras.optimizers import Adam\n",
    "from sklearn.model_selection import train_test_split\n",
    "import matplotlib.pyplot as plt\n",
    "\n",
    "# =============================================\n",
    "# 4. División en train/validation\n",
    "# =============================================\n",
    "\n",
    "# 1️⃣ Dividir los datos\n",
    "X_train, X_val, y_train, y_val = train_test_split(X, y, test_size=0.2, random_state=42)\n",
    "\n",
    "print(\"✅ Datos divididos:\")\n",
    "print(\"📊 X_train:\", X_train.shape)\n",
    "print(\"📊 X_val:\", X_val.shape)\n",
    "\n",
    "\n",
    "# =============================================\n",
    "# 5. Definición del modelo (tu arquitectura actual)\n",
    "# =============================================\n",
    "\n",
    "# 2️⃣ Crear el modelo CNN\n",
    "\n",
    "model = Sequential([\n",
    "    Conv2D(32, (3, 3), activation='relu', padding='same', input_shape=(X.shape[1], X.shape[2], 3)),\n",
    "    BatchNormalization(),\n",
    "    MaxPooling2D(2, 2),\n",
    "\n",
    "    Conv2D(64, (3, 3), activation='relu', padding='same'),\n",
    "    BatchNormalization(),\n",
    "    MaxPooling2D(2, 2),\n",
    "\n",
    "    Conv2D(128, (3, 3), activation='relu', padding='same'),\n",
    "    BatchNormalization(),\n",
    "    MaxPooling2D(2, 2),\n",
    "\n",
    "    Flatten(),\n",
    "    Dropout(0.4),  # Subimos un poco para evitar sobreajuste\n",
    "    Dense(128, activation='relu'),\n",
    "    Dropout(0.3),\n",
    "    Dense(1, activation='sigmoid')  # Clasificación binaria\n",
    "])\n",
    "\n",
    "\n",
    "# 3️⃣ Compilar\n",
    "model.compile(optimizer=Adam(learning_rate=0.001),\n",
    "              loss='binary_crossentropy',\n",
    "              metrics=['accuracy'])\n",
    "\n",
    "# =============================================\n",
    "# 6. Entrenamiento con class_weight\n",
    "# =============================================\n",
    "# Pesos para compensar cualquier desbalance residual\n",
    "class_weight = {0: 1, 1: 1.3}\n",
    "\n",
    "\n",
    "\n",
    "\n",
    "# 4️⃣ Entrenar\n",
    "print(\"\\n[🔁] Entrenando modelo...\")\n",
    "history = model.fit(\n",
    "    X_train, y_train,\n",
    "    epochs=30,\n",
    "    batch_size=16,\n",
    "    validation_data=(X_val, y_val),\n",
    "    class_weight=class_weight\n",
    ")\n",
    "\n",
    "'''#comentario triple comilla\n",
    "from tensorflow.keras.preprocessing.image import ImageDataGenerator\n",
    "\n",
    "datagen = ImageDataGenerator(\n",
    "    rotation_range=10,\n",
    "    width_shift_range=0.05,\n",
    "    height_shift_range=0.05,\n",
    "    zoom_range=0.1,\n",
    "    horizontal_flip=True\n",
    ")\n",
    "datagen.fit(X_train)\n",
    "history = model.fit(\n",
    "    datagen.flow(X_train, y_train, batch_size=16),\n",
    "    epochs=30,\n",
    "    validation_data=(X_val, y_val)\n",
    ")\n",
    "'''\n",
    "\n",
    "# =============================================\n",
    "# 7. Evaluación y gráficas\n",
    "# =============================================\n",
    "\n",
    "# 5️⃣ Graficar resultados\n",
    "\n",
    "#Gráfica de perdida\n",
    "plt.figure(figsize=(12, 4))\n",
    "plt.subplot(1, 2, 1)\n",
    "\n",
    "plt.plot(history.history['loss'], label='Pérdida Entrenamiento')\n",
    "plt.plot(history.history['val_loss'], label='Pérdida Validación')\n",
    "plt.title(\"Pérdida durante entrenamiento\")\n",
    "plt.xlabel(\"Épocas\")\n",
    "plt.ylabel(\"Pérdida\")\n",
    "plt.legend()\n",
    "plt.show()\n",
    "\n",
    "#6 Gráfica de precision\n",
    "plt.plot(history.history['accuracy'], label='Precisión Entrenamiento')\n",
    "plt.plot(history.history['val_accuracy'], label='Precisión Validación')\n",
    "# muestra que porcentaje de imagenes clasifico correctamente\n",
    "# si la precision se mantiene alta en validación -> el modelo se generaliza bien\n",
    "\n",
    "\n",
    "plt.title(\"Precisión durante entrenamiento\")\n",
    "plt.xlabel(\"Épocas\")\n",
    "plt.ylabel(\"Precisión\")\n",
    "plt.legend()\n",
    "plt.show()\n"
   ]
  },
  {
   "cell_type": "code",
   "execution_count": 47,
   "id": "61f2e6e5-c2a2-4197-af63-11dbdcd420b7",
   "metadata": {},
   "outputs": [],
   "source": [
    "model.save(\"mi_modelo.keras\")"
   ]
  },
  {
   "cell_type": "code",
   "execution_count": 1,
   "id": "e083ab5d-7633-40c3-9c85-844e3bb56c33",
   "metadata": {},
   "outputs": [
    {
     "name": "stdout",
     "output_type": "stream",
     "text": [
      "✅ Renombrado: 000.png → 074.png\n",
      "✅ Renombrado: 001.png → 075.png\n",
      "✅ Renombrado: 002.png → 076.png\n",
      "✅ Renombrado: 003.png → 077.png\n",
      "✅ Renombrado: 004.png → 078.png\n",
      "✅ Renombrado: 005.png → 079.png\n",
      "✅ Renombrado: 006.png → 080.png\n",
      "✅ Renombrado: 007.png → 081.png\n",
      "✅ Renombrado: 008.png → 082.png\n",
      "✅ Renombrado: 009.png → 083.png\n",
      "✅ Renombrado: 010.png → 084.png\n",
      "✅ Renombrado: 011.png → 085.png\n",
      "✅ Renombrado: 012.png → 086.png\n",
      "✅ Renombrado: 013.png → 087.png\n",
      "✅ Renombrado: 014.png → 088.png\n",
      "✅ Renombrado: 015.png → 089.png\n",
      "✅ Renombrado: 016.png → 090.png\n",
      "✅ Renombrado: 017.png → 091.png\n"
     ]
    }
   ],
   "source": [
    "import os\n",
    "\n",
    "# Ruta donde están tus imágenes\n",
    "ruta =  \"C:\\\\Users\\\\Carlos\\\\Desktop\\\\leather\\\\test\\\\poke\"  # 👈 cambia esto si es necesario\n",
    "\n",
    "# Listar los archivos PNG en orden\n",
    "imagenes = sorted([f for f in os.listdir(ruta) if f.endswith(\".png\")])\n",
    "\n",
    "# Desde qué número quieres empezar\n",
    "contador = 74\n",
    "\n",
    "for nombre in imagenes:\n",
    "    nueva_ruta = os.path.join(ruta, f\"{contador:03}.png\")  # 3 dígitos: 019.png, 020.png, ...\n",
    "    ruta_original = os.path.join(ruta, nombre)\n",
    "    \n",
    "    os.rename(ruta_original, nueva_ruta)\n",
    "    print(f\"✅ Renombrado: {nombre} → {contador:03}.png\")\n",
    "    \n",
    "    contador += 1"
   ]
  }
 ],
 "metadata": {
  "kernelspec": {
   "display_name": "Python 3 (ipykernel)",
   "language": "python",
   "name": "python3"
  },
  "language_info": {
   "codemirror_mode": {
    "name": "ipython",
    "version": 3
   },
   "file_extension": ".py",
   "mimetype": "text/x-python",
   "name": "python",
   "nbconvert_exporter": "python",
   "pygments_lexer": "ipython3",
   "version": "3.10.0"
  }
 },
 "nbformat": 4,
 "nbformat_minor": 5
}
